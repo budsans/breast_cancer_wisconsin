{
 "cells": [
  {
   "cell_type": "markdown",
   "id": "a052377f",
   "metadata": {},
   "source": [
    "<h1>Data Connection Verification</h1>\n",
    "Our data source is from the UC Irvine Machine Learning Repository and this script is written to check the avaliability and integrity of the data, so that users are able to reproduce our process."
   ]
  },
  {
   "cell_type": "code",
   "execution_count": 15,
   "id": "68f722cc",
   "metadata": {},
   "outputs": [],
   "source": [
    "import requests\n",
    "import zipfile\n",
    "import os\n",
    "import hashlib"
   ]
  },
  {
   "cell_type": "code",
   "execution_count": 16,
   "id": "f397a6c1",
   "metadata": {},
   "outputs": [],
   "source": [
    "# Function to download the zipfile locally\n",
    " \n",
    "def download_zip_file(url, local_filename):\n",
    "    try:\n",
    "        response = requests.get(url, stream=True)\n",
    "        response.raise_for_status() # Raise an HTTPError for bad responses (4xx or 5xx)\n",
    "\n",
    "        with open(local_filename, 'wb') as f:\n",
    "            for chunk in response.iter_content(chunk_size=8192):\n",
    "                f.write(chunk)\n",
    "        print(f\"'{local_filename}' downloaded successfully.\")\n",
    "        return True\n",
    "    except requests.exceptions.RequestException as e:\n",
    "        print(f\"Error downloading file: {e}\")\n",
    "        return False"
   ]
  },
  {
   "cell_type": "code",
   "execution_count": 17,
   "id": "11caa62e",
   "metadata": {},
   "outputs": [
    {
     "name": "stdout",
     "output_type": "stream",
     "text": [
      "'breast+cancer+wisconsin+diagnostic.zip' downloaded successfully.\n",
      "MD5 hash of the downloaded Zip file: 97da86fb8aa67b905c88ad6c499f6bd4\n",
      "MD5 hash of the downloaded Data file: c6dd5a2909808f3a901cf00cfd8dfff0\n"
     ]
    }
   ],
   "source": [
    "# Link to dataset in Zip format\n",
    "# Info page: https://archive.ics.uci.edu/dataset/17/breast+cancer+wisconsin+diagnostic\n",
    "\n",
    "zip_url = \"https://archive.ics.uci.edu/static/public/17/breast+cancer+wisconsin+diagnostic.zip\"\n",
    "output_file_name = \"breast+cancer+wisconsin+diagnostic.zip\"\n",
    "extract_to_directory = '../data'\n",
    "\n",
    "\n",
    "if download_zip_file(zip_url, output_file_name):\n",
    "    # Create the directory if it doesn't exist\n",
    "    os.makedirs(extract_to_directory, exist_ok=True)\n",
    "\n",
    "    with open(output_file_name, 'rb') as f:\n",
    "        file_hash = hashlib.file_digest(f, 'md5').hexdigest()\n",
    "        print(f\"MD5 hash of the downloaded Zip file: {file_hash}\")\n",
    "\n",
    "    with zipfile.ZipFile(output_file_name, 'r') as zip_ref:\n",
    "        zip_ref.extractall(extract_to_directory)\n",
    "\n",
    "    with open('../data/wdbc.data', 'rb') as f:\n",
    "        file_hash = hashlib.file_digest(f, 'md5').hexdigest()\n",
    "        print(f\"MD5 hash of the downloaded Data file: {file_hash}\")\n",
    "    \n",
    "else:\n",
    "    print(\"Download failed.\")\n",
    "    "
   ]
  },
  {
   "cell_type": "markdown",
   "id": "9d57b440",
   "metadata": {},
   "source": [
    "<h1>Breast Cancer Wisconsin - Dataset Analysis</h1>\n",
    "This portion has snippets from our main code and used to double check that the newly downloaded source matches our current dataset."
   ]
  },
  {
   "cell_type": "code",
   "execution_count": 18,
   "id": "978d1b5f",
   "metadata": {},
   "outputs": [],
   "source": [
    "%matplotlib inline \n",
    "# Import necessary libraries\n",
    "import warnings\n",
    "warnings.filterwarnings('ignore')\n",
    "import pandas as pd\n",
    "import numpy as np\n",
    "import seaborn as sns\n",
    "import matplotlib.pyplot as plt\n",
    "import matplotlib.image as mpimg\n",
    "from matplotlib import rcParams"
   ]
  },
  {
   "cell_type": "code",
   "execution_count": 19,
   "id": "31d9e039",
   "metadata": {},
   "outputs": [
    {
     "name": "stdout",
     "output_type": "stream",
     "text": [
      "The dataset has 569 rows (cases), and 32 columns, inlcuding ID and diagnosis.\n",
      "The dataset column names in the original dataset form:\n",
      "Index([ 0,  1,  2,  3,  4,  5,  6,  7,  8,  9, 10, 11, 12, 13, 14, 15, 16, 17,\n",
      "       18, 19, 20, 21, 22, 23, 24, 25, 26, 27, 28, 29, 30, 31],\n",
      "      dtype='int64')\n"
     ]
    }
   ],
   "source": [
    "# Read the dataset downloaded from provided link and stored in the 'data' directory in the git repository.\n",
    "# The dataset is the Breast Cancer Wisconsin (Diagnostic) Data Set from UCI Machine Learning Repository\n",
    "\n",
    "data = pd.read_csv('../data/wdbc.data', header=None)\n",
    "# Display the shape of the dataset\n",
    "print(f\"The dataset has {data.shape[0]} rows (cases), and {data.shape[1]} columns, inlcuding ID and diagnosis.\")\n",
    "\n",
    "# Display the original column names, these are not the variable names, they are just numerical indices\n",
    "print(f\"The dataset column names in the original dataset form:\")\n",
    "print(data.columns)"
   ]
  },
  {
   "cell_type": "code",
   "execution_count": 20,
   "id": "919df405",
   "metadata": {},
   "outputs": [
    {
     "data": {
      "text/plain": [
       "['id',\n",
       " 'diagnosis',\n",
       " 'radius_mean',\n",
       " 'texture_mean',\n",
       " 'perimeter_mean',\n",
       " 'area_mean',\n",
       " 'smoothness_mean',\n",
       " 'compactness_mean',\n",
       " 'concavity_mean',\n",
       " 'concave_points_mean',\n",
       " 'symmetry_mean',\n",
       " 'fractal_dimension_mean',\n",
       " 'radius_se',\n",
       " 'texture_se',\n",
       " 'perimeter_se',\n",
       " 'area_se',\n",
       " 'smoothness_se',\n",
       " 'compactness_se',\n",
       " 'concavity_se',\n",
       " 'concave points_se',\n",
       " 'symmetry_se',\n",
       " 'fractal_dimension_se',\n",
       " 'radius_worst',\n",
       " 'texture_worst',\n",
       " 'perimeter_worst',\n",
       " 'area_worst',\n",
       " 'smoothness_worst',\n",
       " 'compactness_worst',\n",
       " 'concavity_worst',\n",
       " 'concave_points_worst',\n",
       " 'symmetry_worst',\n",
       " 'fractal_dimension_worst']"
      ]
     },
     "execution_count": 20,
     "metadata": {},
     "output_type": "execute_result"
    }
   ],
   "source": [
    "# The names of columns in the dataset are not descriptive, so we will assign more meaningful variable names.\n",
    "# These names are based on the dataset's description and should match the number of columns in the dataframe\n",
    "# The dataset contains 32 columns, including the ID, diagnosis, and various features\n",
    "\n",
    "# Define the variable names for the dataset\n",
    "vname  = ['id', 'diagnosis', 'radius_mean', 'texture_mean', 'perimeter_mean',\n",
    "       'area_mean', 'smoothness_mean', 'compactness_mean', 'concavity_mean',\n",
    "       'concave_points_mean', 'symmetry_mean', 'fractal_dimension_mean',\n",
    "       'radius_se', 'texture_se', 'perimeter_se', 'area_se', 'smoothness_se',\n",
    "       'compactness_se', 'concavity_se', 'concave points_se', 'symmetry_se',\n",
    "       'fractal_dimension_se', 'radius_worst', 'texture_worst',\n",
    "       'perimeter_worst', 'area_worst', 'smoothness_worst',\n",
    "       'compactness_worst', 'concavity_worst', 'concave_points_worst',\n",
    "       'symmetry_worst', 'fractal_dimension_worst']\n",
    "\n",
    "\n",
    "# Assign the variable names to the dataframe\n",
    "# This step is crucial for making the dataset more interpretable\n",
    "data.columns = vname\n",
    "\n",
    "# Verify the change of the variable names\n",
    "data.columns.tolist()"
   ]
  },
  {
   "cell_type": "code",
   "execution_count": 21,
   "id": "9a80bafb",
   "metadata": {},
   "outputs": [
    {
     "name": "stdout",
     "output_type": "stream",
     "text": [
      "<class 'pandas.core.frame.DataFrame'>\n",
      "RangeIndex: 569 entries, 0 to 568\n",
      "Data columns (total 32 columns):\n",
      " #   Column                   Non-Null Count  Dtype  \n",
      "---  ------                   --------------  -----  \n",
      " 0   id                       569 non-null    int64  \n",
      " 1   diagnosis                569 non-null    object \n",
      " 2   radius_mean              569 non-null    float64\n",
      " 3   texture_mean             569 non-null    float64\n",
      " 4   perimeter_mean           569 non-null    float64\n",
      " 5   area_mean                569 non-null    float64\n",
      " 6   smoothness_mean          569 non-null    float64\n",
      " 7   compactness_mean         569 non-null    float64\n",
      " 8   concavity_mean           569 non-null    float64\n",
      " 9   concave_points_mean      569 non-null    float64\n",
      " 10  symmetry_mean            569 non-null    float64\n",
      " 11  fractal_dimension_mean   569 non-null    float64\n",
      " 12  radius_se                569 non-null    float64\n",
      " 13  texture_se               569 non-null    float64\n",
      " 14  perimeter_se             569 non-null    float64\n",
      " 15  area_se                  569 non-null    float64\n",
      " 16  smoothness_se            569 non-null    float64\n",
      " 17  compactness_se           569 non-null    float64\n",
      " 18  concavity_se             569 non-null    float64\n",
      " 19  concave points_se        569 non-null    float64\n",
      " 20  symmetry_se              569 non-null    float64\n",
      " 21  fractal_dimension_se     569 non-null    float64\n",
      " 22  radius_worst             569 non-null    float64\n",
      " 23  texture_worst            569 non-null    float64\n",
      " 24  perimeter_worst          569 non-null    float64\n",
      " 25  area_worst               569 non-null    float64\n",
      " 26  smoothness_worst         569 non-null    float64\n",
      " 27  compactness_worst        569 non-null    float64\n",
      " 28  concavity_worst          569 non-null    float64\n",
      " 29  concave_points_worst     569 non-null    float64\n",
      " 30  symmetry_worst           569 non-null    float64\n",
      " 31  fractal_dimension_worst  569 non-null    float64\n",
      "dtypes: float64(30), int64(1), object(1)\n",
      "memory usage: 142.4+ KB\n",
      "None\n",
      "       id diagnosis  radius_mean  texture_mean  perimeter_mean  area_mean  \\\n",
      "0  842302         M        17.99         10.38           122.8     1001.0   \n",
      "1  842517         M        20.57         17.77           132.9     1326.0   \n",
      "\n",
      "   smoothness_mean  compactness_mean  concavity_mean  concave_points_mean  \\\n",
      "0          0.11840           0.27760          0.3001              0.14710   \n",
      "1          0.08474           0.07864          0.0869              0.07017   \n",
      "\n",
      "   ...  radius_worst  texture_worst  perimeter_worst  area_worst  \\\n",
      "0  ...         25.38          17.33            184.6      2019.0   \n",
      "1  ...         24.99          23.41            158.8      1956.0   \n",
      "\n",
      "   smoothness_worst  compactness_worst  concavity_worst  concave_points_worst  \\\n",
      "0            0.1622             0.6656           0.7119                0.2654   \n",
      "1            0.1238             0.1866           0.2416                0.1860   \n",
      "\n",
      "   symmetry_worst  fractal_dimension_worst  \n",
      "0          0.4601                  0.11890  \n",
      "1          0.2750                  0.08902  \n",
      "\n",
      "[2 rows x 32 columns]\n",
      "         id diagnosis  radius_mean  texture_mean  perimeter_mean  area_mean  \\\n",
      "567  927241         M        20.60         29.33          140.10     1265.0   \n",
      "568   92751         B         7.76         24.54           47.92      181.0   \n",
      "\n",
      "     smoothness_mean  compactness_mean  concavity_mean  concave_points_mean  \\\n",
      "567          0.11780           0.27700          0.3514                0.152   \n",
      "568          0.05263           0.04362          0.0000                0.000   \n",
      "\n",
      "     ...  radius_worst  texture_worst  perimeter_worst  area_worst  \\\n",
      "567  ...        25.740          39.42           184.60      1821.0   \n",
      "568  ...         9.456          30.37            59.16       268.6   \n",
      "\n",
      "     smoothness_worst  compactness_worst  concavity_worst  \\\n",
      "567           0.16500            0.86810           0.9387   \n",
      "568           0.08996            0.06444           0.0000   \n",
      "\n",
      "     concave_points_worst  symmetry_worst  fractal_dimension_worst  \n",
      "567                 0.265          0.4087                  0.12400  \n",
      "568                 0.000          0.2871                  0.07039  \n",
      "\n",
      "[2 rows x 32 columns]\n"
     ]
    }
   ],
   "source": [
    "# Display the information about the dataset\n",
    "# This includes the data types of each column and the number of non-null entries\n",
    "print(data.info())\n",
    "\n",
    "# Display the first two and last two rows of the dataset\n",
    "print(data.head(2))\n",
    "print(data.tail(2))"
   ]
  },
  {
   "cell_type": "code",
   "execution_count": 22,
   "id": "73f04424",
   "metadata": {},
   "outputs": [
    {
     "data": {
      "image/png": "[encoded data removed]",
      "text/plain": [
       "<Figure size 800x600 with 1 Axes>"
      ]
     },
     "metadata": {},
     "output_type": "display_data"
    }
   ],
   "source": [
    "# Display the count of cases identified as benign or malignant based on the 'diagnosis' column\n",
    "# This is a crucial step in understanding the distribution of cases in the dataset\n",
    "# We use seaborn's countplot to visualize the distribution. We also define a custom color palette for better visualization.\n",
    "\n",
    "# Create the countplot\n",
    "plt.figure(figsize=(8, 6))\n",
    "# Define a custom color palette for the diagnosis categories\n",
    "# 'B' (Benign) is represented in green and 'M' (Malignant) in red\n",
    "custom_palette = {'B': 'green', 'M': 'red'}\n",
    "sns.countplot(x='diagnosis', data=data, hue='diagnosis', palette=custom_palette)\n",
    "\n",
    "# Add count labels on top of the bars\n",
    "for p in plt.gca().patches:\n",
    "    plt.text(p.get_x() + p.get_width() / 2., p.get_height(), int(p.get_height()), \n",
    "             ha='center', va='bottom', fontsize=12, color='black')\n",
    "\n",
    "# Set the labels and title for the plot    \n",
    "plt.xlabel('Diagnosis (B: Benign, M: Malignant)')\n",
    "plt.ylabel('Count')\n",
    "plt.title('Distribution of Benign (B) or Malignant (M) Cases')\n",
    "plt.show()"
   ]
  },
  {
   "cell_type": "code",
   "execution_count": 23,
   "id": "1c04b60a",
   "metadata": {},
   "outputs": [
    {
     "name": "stdout",
     "output_type": "stream",
     "text": [
      "       radius_mean  texture_mean  perimeter_mean  area_mean  smoothness_mean  \\\n",
      "count       569.00        569.00          569.00     569.00           569.00   \n",
      "mean         14.13         19.29           91.97     654.89             0.10   \n",
      "std           3.52          4.30           24.30     351.91             0.01   \n",
      "min           6.98          9.71           43.79     143.50             0.05   \n",
      "25%          11.70         16.17           75.17     420.30             0.09   \n",
      "50%          13.37         18.84           86.24     551.10             0.10   \n",
      "75%          15.78         21.80          104.10     782.70             0.11   \n",
      "max          28.11         39.28          188.50    2501.00             0.16   \n",
      "\n",
      "       compactness_mean  concavity_mean  concave_points_mean  symmetry_mean  \\\n",
      "count            569.00          569.00               569.00         569.00   \n",
      "mean               0.10            0.09                 0.05           0.18   \n",
      "std                0.05            0.08                 0.04           0.03   \n",
      "min                0.02            0.00                 0.00           0.11   \n",
      "25%                0.06            0.03                 0.02           0.16   \n",
      "50%                0.09            0.06                 0.03           0.18   \n",
      "75%                0.13            0.13                 0.07           0.20   \n",
      "max                0.35            0.43                 0.20           0.30   \n",
      "\n",
      "       fractal_dimension_mean  \n",
      "count                  569.00  \n",
      "mean                     0.06  \n",
      "std                      0.01  \n",
      "min                      0.05  \n",
      "25%                      0.06  \n",
      "50%                      0.06  \n",
      "75%                      0.07  \n",
      "max                      0.10  \n"
     ]
    }
   ],
   "source": [
    "# Display the descriptive statistics of the dataset\n",
    "# This provides insights into the distribution of values in each column\n",
    "# We focus on the columns from index 2 to 11, which contain the numerical features. We exclude the 'id' and 'diagnosis' columns.\n",
    "\n",
    "print(data.iloc[:, 2:12].describe().round(2)) # Numberical features summary statistics is rounded to 2 decimal places for better readability\n"
   ]
  },
  {
   "cell_type": "markdown",
   "id": "bb6a01d9",
   "metadata": {},
   "source": [
    "<h1>Conclusion</h1>\n",
    "From the metadata observed, our newly downloaded dataset matches our current and we are confident the experiment can be reproduced at anytime."
   ]
  }
 ],
 "metadata": {
  "kernelspec": {
   "display_name": "base",
   "language": "python",
   "name": "python3"
  },
  "language_info": {
   "codemirror_mode": {
    "name": "ipython",
    "version": 3
   },
   "file_extension": ".py",
   "mimetype": "text/x-python",
   "name": "python",
   "nbconvert_exporter": "python",
   "pygments_lexer": "ipython3",
   "version": "3.12.9"
  }
 },
 "nbformat": 4,
 "nbformat_minor": 5
}
